{
  "nbformat": 4,
  "nbformat_minor": 0,
  "metadata": {
    "colab": {
      "provenance": [],
      "authorship_tag": "ABX9TyNGKYZECEvmfXU4SqYQ1sbz",
      "include_colab_link": true
    },
    "kernelspec": {
      "name": "python3",
      "display_name": "Python 3"
    },
    "language_info": {
      "name": "python"
    }
  },
  "cells": [
    {
      "cell_type": "markdown",
      "metadata": {
        "id": "view-in-github",
        "colab_type": "text"
      },
      "source": [
        "<a href=\"https://colab.research.google.com/github/dhakehruturaj/Topics-in-Generative-AI/blob/main/Lab_Session_3__RNN_and_Sequencing.ipynb\" target=\"_parent\"><img src=\"https://colab.research.google.com/assets/colab-badge.svg\" alt=\"Open In Colab\"/></a>"
      ]
    },
    {
      "cell_type": "markdown",
      "source": [
        "# Topics in Generative AI: Lab Session 3\n",
        "\n",
        "## Recurrent Neural Networks (RNN) and Sequence Mining\n",
        "\n",
        "Welcome to the third lab session of the workshop on Topics in Generative AI. In this session, we will dive into Recurrent Neural Networks (RNNs) and Sequence Mining. The focus will be on understanding the basic concepts of RNNs, building a simple RNN model, and exploring Long Short-Term Memory (LSTM) networks.\n",
        "\n",
        "### Table of Contents\n",
        "1. Introduction to RNNs\n",
        "2. Building a Simple RNN\n",
        "3. Understanding LSTM Networks\n",
        "4. Hands-On: Implementing LSTM\n",
        "\n",
        "---"
      ],
      "metadata": {
        "id": "rqh07vIoJMGj"
      }
    },
    {
      "cell_type": "markdown",
      "source": [
        "## Recurrent Neural Network\n",
        "\n",
        "## 1. Introduction to RNNs\n",
        "\n",
        "Recurrent Neural Networks (RNNs) are a class of neural networks that are well-suited for processing sequential data. Unlike traditional feedforward neural networks, RNNs have connections that form directed cycles, enabling them to maintain a 'memory' of previous inputs.\n",
        "\n",
        "### Key Concepts:\n",
        "- **Sequential Data:** Data where the order of the elements matters, such as time series, text, and speech.\n",
        "- **Hidden State:** The memory of the network that captures information about previous inputs.\n",
        "- **Recurrent Connections:** Connections that feed the output of a node back into the network as input for the next time step.\n",
        "\n",
        "---"
      ],
      "metadata": {
        "id": "mYNsBS5s3OBw"
      }
    },
    {
      "cell_type": "markdown",
      "source": [
        "## 2. Building a Simple RNN\n",
        "\n",
        "In this section, we will build a simple RNN from scratch using TensorFlow and Keras. The goal is to understand how RNNs process sequential data.\n",
        "\n",
        "### Steps:\n",
        "1. Import necessary libraries\n",
        "2. Prepare the dataset\n",
        "3. Define the RNN model\n",
        "4. Train the model\n",
        "5. Evaluate the model"
      ],
      "metadata": {
        "id": "ir7boZraKeYf"
      }
    },
    {
      "cell_type": "code",
      "execution_count": 1,
      "metadata": {
        "id": "vaKJriaE2_UQ"
      },
      "outputs": [],
      "source": [
        "import torch\n",
        "import torch.nn as nn\n",
        "import torch.nn.functional as F\n",
        "import torch.optim as optim\n",
        "\n",
        "import math\n",
        "import numpy as np\n",
        "\n",
        "%matplotlib inline\n",
        "import matplotlib.pyplot as plt"
      ]
    },
    {
      "cell_type": "markdown",
      "source": [
        "# Simple RNN to Learn Sine Wave\n",
        "\n",
        "In this section, we will build a simple Recurrent Neural Network (RNN) to reproduce a sine wave based on the provided training data.\n",
        "\n",
        "#### Understanding the Input Tensor for RNN\n",
        "\n",
        "The input tensor for an RNN must be in the shape of `(sequence_length, batch_size, input_size)`. Let's break down these dimensions:\n",
        "\n",
        "- **`sequence_length`**: This is the length of the sine wave sequence. We set this dimension to `-1` to allow it to adapt to any length if the other dimensions have a fixed size.\n",
        "- **`batch_size`**: This represents the number of sequences we are training together. Since we only have one input sine wave in this example, we set this to `1`.\n",
        "- **`input_size`**: This is the number of features at each time step. For a sine wave, we have one `x` value at a time, so this dimension is set to `1`.\n",
        "\n",
        "To reshape our input data into the required dimensions, we will use the [view(.)](https://pytorch.org/docs/stable/tensors.html#torch.Tensor.view) function from PyTorch.\n",
        "\n"
      ],
      "metadata": {
        "id": "f9CGrkjh3VvP"
      }
    },
    {
      "cell_type": "code",
      "source": [
        "num_time_steps = 15\n",
        "\n",
        "time_steps = np.linspace(0, 2*np.pi, num_time_steps)\n",
        "data = np.sin(time_steps)\n",
        "xs = data[:-1]\n",
        "ys = data[1:]\n",
        "train_x = torch.Tensor(xs).view(-1, 1, 1)\n",
        "train_y = torch.Tensor(ys)"
      ],
      "metadata": {
        "id": "9yIX9Xp53S3r"
      },
      "execution_count": 2,
      "outputs": []
    },
    {
      "cell_type": "markdown",
      "source": [
        "### Building a Simple RNN\n",
        "\n",
        "The simplest RNN architecture includes an RNN cell and a fully connected layer. The RNN cell processes the input sequence step-by-step, while the fully connected layer converts the hidden state outputs into the final predicted values.\n",
        "\n",
        "#### Key Components:\n",
        "- **RNN Cell**: This is the core component that processes the input sequence and maintains hidden states across time steps.\n",
        "- **Fully Connected Layer**: This layer reads the output from the RNN cell's hidden states and produces the final predictions.\n",
        "\n",
        "#### Forward Method Explained:\n",
        "\n",
        "In the `forward` method, the RNN processes the input sequence one time step at a time. This process is known as \"unrolling\" the RNN. For each time step, the following operations are performed:\n",
        "\n",
        "1. **Recurrent Computation**: The RNN cell processes the input at the current time step and updates the hidden state.\n",
        "2. **Prediction**: The fully connected layer generates an output value from the hidden state.\n",
        "\n",
        "Additionally, the `forward` method returns:\n",
        "- **Predicted Output Values**: The sequence of predicted values for each time step.\n",
        "- **Hidden State Vector**: The hidden state at the final time step, which can be used to continue the sequence if needed.\n",
        "\n",
        "Here's an example implementation in PyTorch:"
      ],
      "metadata": {
        "id": "PtxXkxIy3dbm"
      }
    },
    {
      "cell_type": "code",
      "source": [
        "class SimpleRNN(nn.Module):\n",
        "    def __init__(self, hidden_size):\n",
        "        super(SimpleRNN, self).__init__()\n",
        "        self.rnn = nn.RNN(input_size=1,\n",
        "                          hidden_size=hidden_size,\n",
        "                          num_layers=1)\n",
        "        self.linear = nn.Linear(hidden_size, 1)\n",
        "\n",
        "    def forward(self, seq, hc=None):\n",
        "        tmp, hc = self.rnn(seq, hc)\n",
        "        out = self.linear(tmp)\n",
        "        return out, hc"
      ],
      "metadata": {
        "id": "SolJxpM_3a16"
      },
      "execution_count": 3,
      "outputs": []
    },
    {
      "cell_type": "markdown",
      "source": [
        "We can set the hyperparameters and run training as before. Again, we use mean squared error to compute the loss for the real values."
      ],
      "metadata": {
        "id": "lRNNB8383h2V"
      }
    },
    {
      "cell_type": "code",
      "source": [
        "hidden_size = 16\n",
        "learning_rate = 0.001\n",
        "\n",
        "model = SimpleRNN(hidden_size)\n",
        "criterion = nn.MSELoss()\n",
        "optimizer = optim.Adam(model.parameters(), learning_rate)"
      ],
      "metadata": {
        "id": "IL4DU3wr3fno"
      },
      "execution_count": 4,
      "outputs": []
    },
    {
      "cell_type": "code",
      "source": [
        "epochs = 100\n",
        "for epoch in range(epochs):\n",
        "    optimizer.zero_grad()\n",
        "    output, _ = model(train_x)\n",
        "    loss = criterion(output.view(-1), train_y)\n",
        "    loss.backward()\n",
        "    optimizer.step()\n",
        "    if epoch % 10 == 0:\n",
        "        print(\"Epoch {}: loss {}\".format(epoch, loss.item()))"
      ],
      "metadata": {
        "colab": {
          "base_uri": "https://localhost:8080/"
        },
        "id": "MWvOR5Gq3jp6",
        "outputId": "8cd8bce0-36a8-4e28-a1b9-edbaecda5944"
      },
      "execution_count": 5,
      "outputs": [
        {
          "output_type": "stream",
          "name": "stdout",
          "text": [
            "Epoch 0: loss 0.585710346698761\n",
            "Epoch 10: loss 0.5003357529640198\n",
            "Epoch 20: loss 0.4259280562400818\n",
            "Epoch 30: loss 0.34804144501686096\n",
            "Epoch 40: loss 0.2663826048374176\n",
            "Epoch 50: loss 0.17929919064044952\n",
            "Epoch 60: loss 0.10343654453754425\n",
            "Epoch 70: loss 0.04457920044660568\n",
            "Epoch 80: loss 0.010381437838077545\n",
            "Epoch 90: loss 0.003533517476171255\n"
          ]
        }
      ]
    },
    {
      "cell_type": "markdown",
      "source": [
        "### Re-generating the Sine Wave\n",
        "\n",
        "To re-generate the sine wave, we need to provide the `x` values to the network. The RNN maintains a tensor for the hidden state throughout the prediction process. Initially, this hidden state is set to `None`, meaning the RNN will initialize it as a vector of all zeros.\n"
      ],
      "metadata": {
        "id": "xAVxvQbu3pMV"
      }
    },
    {
      "cell_type": "code",
      "source": [
        "predictions = []\n",
        "input = train_x[0, :, :]  # choose the first time step as input\n",
        "hidden_prev = None\n",
        "for i in range(train_x.shape[0]):\n",
        "    input = train_x[i, :, :]\n",
        "    input = input.view(1, 1, 1)\n",
        "    pred, hidden_prev = model(input, hidden_prev)\n",
        "    predictions.append(pred.data.numpy()[0])\n",
        "\n",
        "x = train_x.data.numpy()\n",
        "fig, ax = plt.subplots()\n",
        "plt.scatter(time_steps[:-1], x, s=90, label='actual')\n",
        "plt.scatter(time_steps[1:], predictions, label='predicted')\n",
        "ax.legend()"
      ],
      "metadata": {
        "colab": {
          "base_uri": "https://localhost:8080/",
          "height": 447
        },
        "id": "2hv2lLiC3lTH",
        "outputId": "fa89b32c-8cd8-46d6-b991-01f354cd7fa8"
      },
      "execution_count": 6,
      "outputs": [
        {
          "output_type": "execute_result",
          "data": {
            "text/plain": [
              "<matplotlib.legend.Legend at 0x7fd2b27de860>"
            ]
          },
          "metadata": {},
          "execution_count": 6
        },
        {
          "output_type": "display_data",
          "data": {
            "text/plain": [
              "<Figure size 640x480 with 1 Axes>"
            ],
            "image/png": "[encoded data removed]"
          },
          "metadata": {}
        }
      ]
    },
    {
      "cell_type": "markdown",
      "source": [
        "The predicted values seem pretty well-aligned with the training sequence. You can try to give it a different input value to see how robust it is to different initial values."
      ],
      "metadata": {
        "id": "Jyob2jt84AfE"
      }
    },
    {
      "cell_type": "markdown",
      "source": [
        "### LSTM for POS Tagging\n",
        "\n",
        "In this section, we will implement an LSTM-based model for Part-of-Speech (POS) tagging. POS tagging involves assigning a part-of-speech label to each word in a sentence (e.g., noun, verb, adjective).\n",
        "\n",
        "#### Preparing the Input Data\n",
        "\n",
        "To train our LSTM model, we need to convert sentences and their corresponding POS tags into a format suitable for neural network processing. Specifically, we will map each word to a unique index, allowing us to represent sentences as sequences of these indexes.\n",
        "\n",
        "#### Steps to Prepare the Data:\n",
        "\n",
        "1. **Tokenization**: Split the sentences into individual words (tokens).\n",
        "2. **Vocabulary Creation**: Create a vocabulary of unique words from the dataset and assign an index to each word.\n",
        "3. **Index Mapping**: Convert each word in the sentences to its corresponding index.\n",
        "4. **Tag Mapping**: Similarly, convert each POS tag to its corresponding index.\n",
        "\n",
        "By transforming the sentences and POS tags into sequences of indexes, we can easily manipulate and feed the data into tensors for training.\n"
      ],
      "metadata": {
        "id": "xjkd0ycA4CxU"
      }
    },
    {
      "cell_type": "code",
      "source": [
        "training_data = [\n",
        "    (\"The dog ate the apple\".split(), [\"DET\", \"NN\", \"V\", \"DET\", \"NN\"]),\n",
        "    (\"Everybody read that book\".split(), [\"NN\", \"V\", \"DET\", \"NN\"])\n",
        "]\n",
        "\n",
        "word_to_ix = {}\n",
        "for sent, tags in training_data:\n",
        "    for word in sent:\n",
        "        if word not in word_to_ix:\n",
        "            word_to_ix[word] = len(word_to_ix)\n",
        "print(word_to_ix)\n",
        "\n",
        "tag_to_ix = {\"DET\": 0, \"NN\": 1, \"V\": 2}\n",
        "print(tag_to_ix)"
      ],
      "metadata": {
        "colab": {
          "base_uri": "https://localhost:8080/"
        },
        "id": "rpkSB3rh3sS7",
        "outputId": "97907aee-6a26-4251-894c-edb2c61e4bde"
      },
      "execution_count": 7,
      "outputs": [
        {
          "output_type": "stream",
          "name": "stdout",
          "text": [
            "{'The': 0, 'dog': 1, 'ate': 2, 'the': 3, 'apple': 4, 'Everybody': 5, 'read': 6, 'that': 7, 'book': 8}\n",
            "{'DET': 0, 'NN': 1, 'V': 2}\n"
          ]
        }
      ]
    },
    {
      "cell_type": "markdown",
      "source": [
        "The model first represent words using word embeddings. Word embeddings are dense vectors of real numbers, one per word in your vocabulary. [`nn.Embedding`](https://pytorch.org/docs/stable/nn.html#torch.nn.Embedding) allows us to build a lookup table to store the embeddings. It is also possible to use pre-trained word embeddings in your model (read example [here](https://medium.com/@martinpella/how-to-use-pre-trained-word-embeddings-in-pytorch-71ca59249f76)).\n",
        "\n",
        "Different from the RNNs, LSTMs also mantain a cell state. So, we can find the input and output tuple that contains a tensor for the hidden state and another tensor for the cell state. Both are initialized to all zeros. They have size (num_layers, batch_size, hidden_dim).\n",
        "\n",
        "*  `num_layers`: We can have multiple LSTMs stacked on top of the others. If not specified, the default is one LSTM.\n",
        "*  `batch_size`: This is the number of sentences we are going to train together. In this example, we train with one sentence a time.\n",
        "*  `hidden_dim`: This is the length of vectors for the states.\n",
        "\n",
        "Similar to the example in the CNN tutorial, we take softmax of the affine map of the hidden state to output the distribution over the label classes.\n",
        "\n",
        "\n"
      ],
      "metadata": {
        "id": "puzcvFMe4Qsj"
      }
    },
    {
      "cell_type": "code",
      "source": [
        "class LSTMTagger(nn.Module):\n",
        "\n",
        "    def __init__(self, embedding_dim, hidden_dim, vocab_size, tagset_size):\n",
        "        super(LSTMTagger, self).__init__()\n",
        "        self.hidden_dim = hidden_dim\n",
        "\n",
        "        self.word_embeddings = nn.Embedding(vocab_size, embedding_dim)\n",
        "        self.lstm = nn.LSTM(embedding_dim, hidden_dim)\n",
        "        self.hidden2tag = nn.Linear(hidden_dim, tagset_size)\n",
        "        self.hidden = self.init_hidden()\n",
        "\n",
        "    def init_hidden(self):\n",
        "        return (torch.zeros(1, 1, self.hidden_dim),\n",
        "                torch.zeros(1, 1, self.hidden_dim))\n",
        "\n",
        "    def forward(self, sentence):\n",
        "        embeds = self.word_embeddings(sentence)\n",
        "        lstm_out, self.hidden = self.lstm(\n",
        "            embeds.view(len(sentence), 1, -1), self.hidden)\n",
        "        tag_space = self.hidden2tag(lstm_out.view(len(sentence), -1))\n",
        "        tag_scores = F.log_softmax(tag_space, dim=1)\n",
        "        return tag_scores"
      ],
      "metadata": {
        "id": "5enhUANF4On3"
      },
      "execution_count": 8,
      "outputs": []
    },
    {
      "cell_type": "markdown",
      "source": [
        "We have a function to convert a word to an index so that we can feed it to the input. As before, we use negative log likelihood as loss function.\n",
        "\n",
        "The dimensions for word embedding and hidden states are quite small. Usually, you need a much larger size for real dataset."
      ],
      "metadata": {
        "id": "6mshumTQ4V1U"
      }
    },
    {
      "cell_type": "code",
      "source": [
        "def prepare_sequence(seq, to_ix):\n",
        "    idxs = [to_ix[w] for w in seq]\n",
        "    return torch.tensor(idxs, dtype=torch.long)\n",
        "\n",
        "embedding_dim = 6\n",
        "hidden_dim = 6\n",
        "\n",
        "model = LSTMTagger(embedding_dim, hidden_dim, len(word_to_ix), len(tag_to_ix))\n",
        "loss_function = nn.NLLLoss()\n",
        "optimizer = optim.SGD(model.parameters(), lr=0.1)"
      ],
      "metadata": {
        "id": "SFT4CxYq4TCY"
      },
      "execution_count": 9,
      "outputs": []
    },
    {
      "cell_type": "markdown",
      "source": [
        "Following the same steps, we train the LSTM model and check out the predicted tag for each word!"
      ],
      "metadata": {
        "id": "_6ce-D7O4aNr"
      }
    },
    {
      "cell_type": "code",
      "source": [
        "for epoch in range(300):\n",
        "    for sentence, tags in training_data:\n",
        "        optimizer.zero_grad()\n",
        "        model.hidden = model.init_hidden()\n",
        "\n",
        "        sentence_in = prepare_sequence(sentence, word_to_ix)\n",
        "        targets = prepare_sequence(tags, tag_to_ix)\n",
        "        tag_scores = model(sentence_in)\n",
        "\n",
        "        loss = loss_function(tag_scores, targets)\n",
        "        loss.backward()\n",
        "        optimizer.step()\n",
        "    if epoch % 50 == 0:\n",
        "        print('epoch {}, loss {}'.format(epoch, loss.item()))\n",
        "\n",
        "# See what the scores are after training\n",
        "with torch.no_grad():\n",
        "    inputs = prepare_sequence(training_data[0][0], word_to_ix)\n",
        "    tag_scores = model(inputs)\n",
        "    _, predicted = torch.max(tag_scores, 1)\n",
        "    print(training_data[0][0])\n",
        "    print(predicted)"
      ],
      "metadata": {
        "colab": {
          "base_uri": "https://localhost:8080/"
        },
        "id": "6BmBE9294YG0",
        "outputId": "7c31de67-3790-404b-f44d-ba0daba2d046"
      },
      "execution_count": 10,
      "outputs": [
        {
          "output_type": "stream",
          "name": "stdout",
          "text": [
            "epoch 0, loss 1.0809142589569092\n",
            "epoch 50, loss 0.9004238843917847\n",
            "epoch 100, loss 0.4467942714691162\n",
            "epoch 150, loss 0.12857668101787567\n",
            "epoch 200, loss 0.05740232393145561\n",
            "epoch 250, loss 0.034556835889816284\n",
            "['The', 'dog', 'ate', 'the', 'apple']\n",
            "tensor([0, 1, 2, 0, 1])\n"
          ]
        }
      ]
    },
    {
      "cell_type": "markdown",
      "source": [
        "### Exercise: Generating Shakespeare\n",
        "\n",
        "In the example above, we work on the word level classification. However, there are cases we may want to generate character one at a time. For example, deciding which character we want to capitalize or generating reasonable names, etc.\n",
        "\n",
        "In this exercise, you will need to implement a model similar to what we have before but at character level to generate Shakespeare style texts.\n",
        "\n",
        "First, let's download the training data!"
      ],
      "metadata": {
        "id": "kXeZRtuE4fHb"
      }
    },
    {
      "cell_type": "markdown",
      "source": [
        "Instead of input a big file for training, we will pick random chunks from the file as the input training sequences."
      ],
      "metadata": {
        "id": "6hYrPs5k4mmz"
      }
    },
    {
      "cell_type": "code",
      "source": [
        "!pip install unidecode"
      ],
      "metadata": {
        "colab": {
          "base_uri": "https://localhost:8080/"
        },
        "id": "tkjPDYxIQYpa",
        "outputId": "ab5e8d59-e526-4ca2-cf6a-cb93c39894ed"
      },
      "execution_count": 11,
      "outputs": [
        {
          "output_type": "stream",
          "name": "stdout",
          "text": [
            "Collecting unidecode\n",
            "  Downloading Unidecode-1.3.8-py3-none-any.whl (235 kB)\n",
            "\u001b[2K     \u001b[90m━━━━━━━━━━━━━━━━━━━━━━━━━━━━━━━━━━━━━━━━\u001b[0m \u001b[32m235.5/235.5 kB\u001b[0m \u001b[31m2.9 MB/s\u001b[0m eta \u001b[36m0:00:00\u001b[0m\n",
            "\u001b[?25hInstalling collected packages: unidecode\n",
            "Successfully installed unidecode-1.3.8\n"
          ]
        }
      ]
    },
    {
      "cell_type": "code",
      "source": [
        "import torch\n",
        "import torch.nn as nn\n",
        "import torch.optim as optim\n",
        "import random\n",
        "import string\n",
        "import unidecode"
      ],
      "metadata": {
        "id": "EXoPvry29mZ2"
      },
      "execution_count": 12,
      "outputs": []
    },
    {
      "cell_type": "code",
      "source": [
        "input_file = 'input.txt'\n",
        "!if [ ! -f $input_file ]; then wget https://raw.githubusercontent.com/karpathy/char-rnn/master/data/tinyshakespeare/input.txt; fi\n",
        "\n",
        "file = unidecode.unidecode(open('input.txt').read())\n",
        "\n",
        "def random_chunk(chunk_len=200):\n",
        "    start_index = random.randint(0, len(file) - chunk_len)\n",
        "    end_index = start_index + chunk_len + 1\n",
        "    return file[start_index:end_index]\n",
        "\n",
        "print(random_chunk())"
      ],
      "metadata": {
        "colab": {
          "base_uri": "https://localhost:8080/"
        },
        "id": "ieGub2kq4iJ4",
        "outputId": "172f52fd-bdb6-4221-8fac-55c472824b49"
      },
      "execution_count": 13,
      "outputs": [
        {
          "output_type": "stream",
          "name": "stdout",
          "text": [
            "--2024-07-21 17:59:05--  https://raw.githubusercontent.com/karpathy/char-rnn/master/data/tinyshakespeare/input.txt\n",
            "Resolving raw.githubusercontent.com (raw.githubusercontent.com)... 185.199.108.133, 185.199.109.133, 185.199.110.133, ...\n",
            "Connecting to raw.githubusercontent.com (raw.githubusercontent.com)|185.199.108.133|:443... connected.\n",
            "HTTP request sent, awaiting response... 200 OK\n",
            "Length: 1115394 (1.1M) [text/plain]\n",
            "Saving to: ‘input.txt’\n",
            "\n",
            "\rinput.txt             0%[                    ]       0  --.-KB/s               \rinput.txt           100%[===================>]   1.06M  --.-KB/s    in 0.03s   \n",
            "\n",
            "2024-07-21 17:59:05 (32.9 MB/s) - ‘input.txt’ saved [1115394/1115394]\n",
            "\n",
            "Servingman:\n",
            "A marvellous poor one.\n",
            "\n",
            "CORIOLANUS:\n",
            "True, so I am.\n",
            "\n",
            "Third Servingman:\n",
            "Pray you, poor gentleman, take up some other\n",
            "station; here's no place for you; pray you, avoid: come.\n",
            "\n",
            "CORIOLANUS:\n",
            "Foll\n"
          ]
        }
      ]
    },
    {
      "cell_type": "markdown",
      "source": [
        "Similar to words, we convert words to integer indexes. Each character now has a unique id.\n",
        "\n",
        "We also provide a function to produce a random training sequence. The input is the character at time $t$. The target is the expected character to see at $t+1$."
      ],
      "metadata": {
        "id": "LWvuGFUU4sSz"
      }
    },
    {
      "cell_type": "code",
      "source": [
        "# Turn string into list of longs\n",
        "# Each character is represented as an integer\n",
        "def char_tensor(str):\n",
        "    tensor = torch.zeros(len(str)).long()\n",
        "    for c in range(len(str)):\n",
        "        tensor[c] = string.printable.index(str[c])\n",
        "    return tensor\n",
        "\n",
        "def random_train_data():\n",
        "    chunk = random_chunk()\n",
        "    input = char_tensor(chunk[:-1])\n",
        "    target = char_tensor(chunk[1:])\n",
        "    return input, target"
      ],
      "metadata": {
        "id": "OJ1k8Yco4pCl"
      },
      "execution_count": 14,
      "outputs": []
    },
    {
      "cell_type": "markdown",
      "source": [
        "Now, it's your turn to implement the model!\n",
        "\n",
        "This model will take as input the character for time step $t$ and is expected to output the character at $t+1$. There are three layers - one embedding layer that encodes the input character into a dense vector, one GRU layer (yes, let's try GRU instead of LSTM this time!) that operates on that dense vector and a hidden state, and a decoder layer that outputs the probability distribution over all possible characters.\n",
        "\n",
        "You can take a look at the GRU documentation ([`nn.GRU`](https://pytorch.org/docs/stable/nn.html#torch.nn.GRU)), the usage is very similar to RNNs and LSTMs."
      ],
      "metadata": {
        "id": "TkCS0ot14wnL"
      }
    },
    {
      "cell_type": "code",
      "source": [
        "class ShakespeareRNN(nn.Module):\n",
        "    def __init__(self, input_size, hidden_size, output_size, n_layers=1):\n",
        "        super(ShakespeareRNN, self).__init__()\n",
        "        self.input_size = input_size\n",
        "        self.hidden_size = hidden_size\n",
        "        self.output_size = output_size\n",
        "        self.n_layers = n_layers\n",
        "\n",
        "        self.encoder = nn.Embedding(input_size, hidden_size)\n",
        "        self.rnn = nn.RNN(hidden_size, hidden_size, n_layers, batch_first=True)\n",
        "        self.decoder = nn.Linear(hidden_size, output_size)\n",
        "\n",
        "    def init_hidden(self):\n",
        "        return torch.zeros(self.n_layers, 1, self.hidden_size)\n",
        "\n",
        "    def forward(self, input, hidden):\n",
        "        encoded = self.encoder(input)\n",
        "        output, hidden = self.rnn(encoded.view(1, -1, self.hidden_size), hidden)\n",
        "        output = self.decoder(output.view(-1, self.hidden_size))\n",
        "        return output, hidden"
      ],
      "metadata": {
        "id": "WHf0fSx64uNG"
      },
      "execution_count": 15,
      "outputs": []
    },
    {
      "cell_type": "markdown",
      "source": [
        "To check out the generation result, we provide you an evaluate function so you can pick any character to start with to generate a paragraph using the trained model.\n",
        "\n",
        "The generation process works as follows. We will feed one character at a time, use the outputs of the network as a probability distribution for the next character, and repeat."
      ],
      "metadata": {
        "id": "I4QY6Sfr5YwK"
      }
    },
    {
      "cell_type": "code",
      "source": [
        "def evaluate(model, prime_str='A', predict_len=100):\n",
        "    hidden = model.init_hidden()\n",
        "    prime_input = char_tensor(prime_str)\n",
        "    predicted = prime_str\n",
        "\n",
        "    for p in range(len(prime_str) - 1):\n",
        "        _, hidden = model(prime_input[p].unsqueeze(0), hidden)\n",
        "    input = prime_input[-1].unsqueeze(0)\n",
        "\n",
        "    for p in range(predict_len):\n",
        "        output, hidden = model(input, hidden)\n",
        "        output_dist = output.data.view(-1).exp()\n",
        "        top_i = torch.multinomial(output_dist, 1)[0]\n",
        "        predicted_char = string.printable[top_i]\n",
        "        predicted += predicted_char\n",
        "        input = char_tensor(predicted_char).unsqueeze(0)\n",
        "\n",
        "    return predicted"
      ],
      "metadata": {
        "id": "HpRayuFN5W_F"
      },
      "execution_count": 16,
      "outputs": []
    },
    {
      "cell_type": "markdown",
      "source": [
        "Finally, we define the training parameters, instantiate the model, and start training.\n",
        "\n",
        "Please complete the missing training script! Once you start training, you can see how the generated texts evolve every 100 epoch."
      ],
      "metadata": {
        "id": "1XNO8x9W5cVJ"
      }
    },
    {
      "cell_type": "markdown",
      "source": [
        "Importing Dataset"
      ],
      "metadata": {
        "id": "ix6W1ru2qypZ"
      }
    },
    {
      "cell_type": "code",
      "source": [
        "n_characters = len(string.printable)\n",
        "hidden_size = 100\n",
        "n_layers = 1\n",
        "\n",
        "epochs = 2000\n",
        "lr = 0.005\n",
        "\n",
        "model = ShakespeareRNN(n_characters, hidden_size, n_characters, n_layers)\n",
        "optimizer = torch.optim.Adam(model.parameters(), lr=lr)\n",
        "criterion = nn.CrossEntropyLoss()\n",
        "\n",
        "for epoch in range(epochs):\n",
        "    model.train()\n",
        "    optimizer.zero_grad()\n",
        "\n",
        "    loss = 0\n",
        "    input_tensor, target_tensor = random_train_data()\n",
        "    chunk_len = input_tensor.size(0)\n",
        "\n",
        "    hidden = model.init_hidden()\n",
        "\n",
        "    for c in range(chunk_len):\n",
        "        output, hidden = model(input_tensor[c].unsqueeze(0), hidden)\n",
        "        loss += criterion(output, target_tensor[c].unsqueeze(0))\n",
        "\n",
        "    loss.backward()\n",
        "    optimizer.step()\n",
        "\n",
        "    loss = loss.item() / chunk_len\n",
        "    if epoch % 100 == 0:\n",
        "        print('[(%d %d%%) %.4f]' % (epoch, epoch / epochs * 100, loss))\n",
        "        print(evaluate(model, 'Wh', 100), '\\n')\n"
      ],
      "metadata": {
        "colab": {
          "base_uri": "https://localhost:8080/"
        },
        "id": "yPB6fKZd5ahj",
        "outputId": "06020c8d-400d-4540-d2eb-b8e645d58da2"
      },
      "execution_count": 17,
      "outputs": [
        {
          "output_type": "stream",
          "name": "stdout",
          "text": [
            "[(0 0%) 4.5850]\n",
            "Wh;.8`['14'H\u000bz!Ac\tx7dmrKpO+M0E(\fCr2^;uxMLK+tHS\n",
            "0*GH^Z0i$)2/irxQJ5G)Pf{\f=>>Ko\u000b;bORos;T|1KleM{IM2/Ce8}FC \n",
            "\n",
            "[(100 5%) 2.3214]\n",
            "Whome why mrot hind bfow, sham of inire anl har pofr ande what sils, me sta lom\n",
            "Thin dad,\n",
            "\n",
            "MUA:\n",
            "\n",
            "Shand \n",
            "\n",
            "[(200 10%) 2.2174]\n",
            "Whinestubleor limrorm;\n",
            "I or Carlisese berser thachic.\n",
            "\n",
            "Deas, fas lave the verether fathed herser oqe a \n",
            "\n",
            "[(300 15%) 2.0854]\n",
            "Whackfot I thowst.\n",
            "\n",
            "JUNET:\n",
            "Shine yor:\n",
            "Show?\n",
            "Th I the\n",
            "Thall that sener you tanou mart tine surno,\n",
            "And h \n",
            "\n",
            "[(400 20%) 2.1133]\n",
            "Whis you cin gethy lon thee, I withy my lether, Buediok?\n",
            "En? ther such\n",
            "Aived eren The vicleds by whis  \n",
            "\n",
            "[(500 25%) 2.0395]\n",
            "Whour it whis it how sit witen.\n",
            "\n",
            "VEOMEROVVERD:\n",
            "Is I haichardel trom?\n",
            "\n",
            "LADY ISANUS:\n",
            "\n",
            "MANIE\n",
            "HSNIUS: geso \n",
            "\n",
            "[(600 30%) 1.9363]\n",
            "Wheirsing on the mende daivelfou comst has brongele.\n",
            "\n",
            "PONCER:\n",
            "Freive, thoush vertaur, the sods, and da \n",
            "\n",
            "[(700 35%) 2.0413]\n",
            "Which wand thy shaions speess kint;\n",
            "And best Evereves man mand\n",
            "Thouser's ons\n",
            "and lo's vowss araist spo \n",
            "\n",
            "[(800 40%) 1.7832]\n",
            "Wher dose. my; do'dio ato like hing taiel:\n",
            "Sooll to the sercut:\n",
            "Ther haLy ir't in land her, an then\n",
            "Bu \n",
            "\n",
            "[(900 45%) 1.7920]\n",
            "Whontule, you hear that hat copees, bed the spear, Mort stall, of play my gobful by that as this the g \n",
            "\n",
            "[(1000 50%) 2.1174]\n",
            "Why my thy deadon ond,\n",
            "Cranuel' curst durk, kind no dease for no say to liarst di' Tukee,\n",
            "Frriend,\n",
            "Af  \n",
            "\n",
            "[(1100 55%) 2.0805]\n",
            "Whonce call for thon.\n",
            "The and yet by but stay.\n",
            "\n",
            "KINGIO:\n",
            "So Witinforear the woulk,\n",
            "That old be sopbeio; \n",
            "\n",
            "[(1200 60%) 1.9551]\n",
            "Whounk, this to see, leart, houbry gosst of him an to nrant\n",
            "lig it rokHe;\n",
            "not how your wont, frackes t \n",
            "\n",
            "[(1300 65%) 1.8477]\n",
            "What no pepee,\n",
            "And cands:\n",
            "Conatist preee;\n",
            "And hall orchamband\n",
            "Why nothint ne you us ulate him ours, an \n",
            "\n",
            "[(1400 70%) 2.0066]\n",
            "Who as upone;\n",
            "Toth\n",
            "slour\n",
            "Sird and come go frest him so mufen no that whe fell tho my night which reat, \n",
            "\n",
            "[(1500 75%) 1.9648]\n",
            "Whouls a thee-mant doul; there breot an there, it you? Go rake this grave in of juds. Whis dire;\n",
            "I evi \n",
            "\n",
            "[(1600 80%) 1.8782]\n",
            "What of than teodrrow.\n",
            "\n",
            "AURIANA:\n",
            "If wolds,\n",
            "Thouge no fift woth you deadiess, whard raice of I wear\n",
            "Eng \n",
            "\n",
            "[(1700 85%) 1.7735]\n",
            "Whence.\n",
            "\n",
            "CAPUTUR?:\n",
            "Not frien thy mayolignt conce.\n",
            "\n",
            "RSATEMBNO:\n",
            "Which me, Duth so thees, piesmen:\n",
            "Whil h \n",
            "\n",
            "[(1800 90%) 2.1803]\n",
            "Wher bequadenst they his mores honountile of dravey is\n",
            "What for lake shearded hoat and mard: and\n",
            "Biste \n",
            "\n",
            "[(1900 95%) 1.9553]\n",
            "Whese our so, ine not way!\n",
            "Theare? will me,\n",
            "They! I here she henold, with rextee, your I sir,\n",
            "Hench,\n",
            "M \n",
            "\n"
          ]
        }
      ]
    },
    {
      "cell_type": "markdown",
      "source": [
        "\n",
        "\n",
        "### Problem: You have to perform Toxic Comment Classification\n",
        "\n",
        "Dataset link: https://drive.google.com/drive/folders/1SQerqMNAAh_BU3IBj4gAvjcQBsoDchAt?usp=sharing"
      ],
      "metadata": {
        "id": "sTBI-nyrUPUm"
      }
    },
    {
      "cell_type": "code",
      "source": [
        "!wget https://www.google.com/url?q=https%3A%2F%2Fdrive.google.com%2Fdrive%2Ffolders%2F1SQerqMNAAh_BU3IBj4gAvjcQBsoDchAt%3Fusp%3Dsharing -p"
      ],
      "metadata": {
        "colab": {
          "base_uri": "https://localhost:8080/"
        },
        "id": "NitdIXddfSVU",
        "outputId": "cde355c0-2297-4a49-bb77-0feac6bbe563"
      },
      "execution_count": 19,
      "outputs": [
        {
          "output_type": "stream",
          "name": "stdout",
          "text": [
            "--2024-07-21 18:14:33--  https://www.google.com/url?q=https%3A%2F%2Fdrive.google.com%2Fdrive%2Ffolders%2F1SQerqMNAAh_BU3IBj4gAvjcQBsoDchAt%3Fusp%3Dsharing\n",
            "Resolving www.google.com (www.google.com)... 142.250.101.104, 142.250.101.99, 142.250.101.106, ...\n",
            "Connecting to www.google.com (www.google.com)|142.250.101.104|:443... connected.\n",
            "HTTP request sent, awaiting response... 302 Found\n",
            "Location: https://drive.google.com/drive/folders/1SQerqMNAAh_BU3IBj4gAvjcQBsoDchAt?usp=sharing [following]\n",
            "--2024-07-21 18:14:33--  https://drive.google.com/drive/folders/1SQerqMNAAh_BU3IBj4gAvjcQBsoDchAt?usp=sharing\n",
            "Resolving drive.google.com (drive.google.com)... 142.250.101.138, 142.250.101.139, 142.250.101.113, ...\n",
            "Connecting to drive.google.com (drive.google.com)|142.250.101.138|:443... connected.\n",
            "HTTP request sent, awaiting response... 200 OK\n",
            "Length: unspecified [text/html]\n",
            "Saving to: ‘www.google.com/url?q=https:%2F%2Fdrive.google.com%2Fdrive%2Ffolders%2F1SQerqMNAAh_BU3IBj4gAvjcQBsoDchAt?usp=sharing’\n",
            "\n",
            "www.google.com/url?     [ <=>                ] 244.71K  --.-KB/s    in 0.1s    \n",
            "\n",
            "2024-07-21 18:14:34 (2.47 MB/s) - ‘www.google.com/url?q=https:%2F%2Fdrive.google.com%2Fdrive%2Ffolders%2F1SQerqMNAAh_BU3IBj4gAvjcQBsoDchAt?usp=sharing’ saved [250580]\n",
            "\n",
            "FINISHED --2024-07-21 18:14:34--\n",
            "Total wall clock time: 0.3s\n",
            "Downloaded: 1 files, 245K in 0.1s (2.47 MB/s)\n"
          ]
        }
      ]
    },
    {
      "cell_type": "code",
      "source": [
        "import pandas as pd\n",
        "import numpy as np\n",
        "import re\n",
        "import torch\n",
        "import torch.nn as nn\n",
        "import torch.optim as optim\n",
        "from torch.utils.data import DataLoader, TensorDataset\n",
        "from sklearn.model_selection import train_test_split\n",
        "from torch.nn.utils.rnn import pad_sequence\n",
        "from torchtext.data.utils import get_tokenizer\n",
        "from torchtext.vocab import GloVe\n",
        "from collections import Counter"
      ],
      "metadata": {
        "id": "SzcYdTAyfSRf"
      },
      "execution_count": 24,
      "outputs": []
    },
    {
      "cell_type": "code",
      "source": [
        "\n",
        "# Load the data\n",
        "train_data = pd.read_csv(\"/content/training_data.csv\", index_col=False)\n",
        "test_data = pd.read_csv(\"/content/test_data.csv\", index_col=False)\n",
        "\n",
        "train_data.head(), test_data.head()"
      ],
      "metadata": {
        "colab": {
          "base_uri": "https://localhost:8080/"
        },
        "id": "kjK0lDrciLhL",
        "outputId": "27dc85e3-6324-4f3e-ec69-3c00a78ac6ee"
      },
      "execution_count": 25,
      "outputs": [
        {
          "output_type": "execute_result",
          "data": {
            "text/plain": [
              "(                 id                                       comment_text  toxic  \\\n",
              " 0  da436ad42040d6df  ; 25 March 2013 (UTC). . That's some strange i...      0   \n",
              " 1  d1dde89e13a40d9e  . {| style=\"background-color: #F5FFFA; padding...      0   \n",
              " 2  521e64c55abc6137  I see that my edits have apparently been rever...      0   \n",
              " 3  5c5d871fac358990  Art of War/Wall Street Quote. I have just pull...      0   \n",
              " 4  4cfff81b9d14275d  . . Do either of them have a source? Unless th...      0   \n",
              " \n",
              "    severe_toxic  obscene  threat  insult  identity_hate  no_toxicity  \n",
              " 0             0        0       0       0              0            1  \n",
              " 1             0        0       0       0              0            1  \n",
              " 2             0        0       0       0              0            1  \n",
              " 3             0        0       0       0              0            1  \n",
              " 4             0        0       0       0              0            1  ,\n",
              "                  id                                       comment_text\n",
              " 0  67673f1c9a136bac  I guess you didn't check the sources. Renato a...\n",
              " 1  a2d4a6f2158263d5  . . New article. I'm reluctant to add this as ...\n",
              " 2  746ae24ef2936a1a                        I'm trying to work on that.\n",
              " 3  ad36d3359f45a866  . . \"yeah yeah like you've never vandalisedbee...\n",
              " 4  53f699000b6287d3  Protecting user talk pages . . In addition to ...)"
            ]
          },
          "metadata": {},
          "execution_count": 25
        }
      ]
    },
    {
      "cell_type": "code",
      "source": [
        "\n",
        "train_data = train_data[train_data[\"comment_text\"] != \"\"].dropna()\n",
        "train_data[\"comment_text\"] = train_data[\"comment_text\"].apply(preprocess_text)"
      ],
      "metadata": {
        "id": "CKCDTx-Ci6g5"
      },
      "execution_count": 27,
      "outputs": []
    },
    {
      "cell_type": "code",
      "source": [
        "train_data['no_toxicity'].value_counts()"
      ],
      "metadata": {
        "colab": {
          "base_uri": "https://localhost:8080/"
        },
        "id": "Cf3wNJJSj6nf",
        "outputId": "7d87c7fb-fdaa-49ef-a3b2-7cda500fd74e"
      },
      "execution_count": 30,
      "outputs": [
        {
          "output_type": "execute_result",
          "data": {
            "text/plain": [
              "no_toxicity\n",
              "1    125247\n",
              "0     14199\n",
              "Name: count, dtype: int64"
            ]
          },
          "metadata": {},
          "execution_count": 30
        }
      ]
    },
    {
      "cell_type": "code",
      "source": [
        "# separating the data for analysis\n",
        "toxic = train_data[train_data.no_toxicity == 0]\n",
        "non_toxic = train_data[train_data.no_toxicity == 1]"
      ],
      "metadata": {
        "id": "ITyIRWc_kAIn"
      },
      "execution_count": 31,
      "outputs": []
    },
    {
      "cell_type": "code",
      "source": [
        "non_toxic_sample = non_toxic.sample(n=15000)"
      ],
      "metadata": {
        "id": "4Sh3auLrkBhQ"
      },
      "execution_count": 32,
      "outputs": []
    },
    {
      "cell_type": "code",
      "source": [
        "new_dataset = pd.concat([non_toxic_sample, toxic], axis=0)"
      ],
      "metadata": {
        "id": "OdFzWYu3kEDj"
      },
      "execution_count": 33,
      "outputs": []
    },
    {
      "cell_type": "code",
      "source": [
        "train_data = new_dataset"
      ],
      "metadata": {
        "id": "jLSmAOtAkHpp"
      },
      "execution_count": 34,
      "outputs": []
    },
    {
      "cell_type": "code",
      "source": [
        "toxic_comments_labels = train_data[[\"toxic\", \"severe_toxic\", \"obscene\", \"threat\", \"insult\", \"identity_hate\", \"no_toxicity\"]]\n",
        "\n",
        "fig_size = plt.rcParams[\"figure.figsize\"]\n",
        "fig_size[0] = 6\n",
        "fig_size[1] = 4\n",
        "plt.rcParams[\"figure.figsize\"] = fig_size\n",
        "\n",
        "toxic_comments_labels.sum(axis=0).plot.bar()"
      ],
      "metadata": {
        "colab": {
          "base_uri": "https://localhost:8080/",
          "height": 463
        },
        "id": "kvqHr4ARjIZ3",
        "outputId": "bb273947-dcd0-4473-f776-a5886e5403af"
      },
      "execution_count": 35,
      "outputs": [
        {
          "output_type": "execute_result",
          "data": {
            "text/plain": [
              "<Axes: >"
            ]
          },
          "metadata": {},
          "execution_count": 35
        },
        {
          "output_type": "display_data",
          "data": {
            "text/plain": [
              "<Figure size 600x400 with 1 Axes>"
            ],
            "image/png": "[encoded data removed]"
          },
          "metadata": {}
        }
      ]
    },
    {
      "cell_type": "code",
      "source": [
        "\n",
        "# Preprocess text\n",
        "def preprocess_text(sen):\n",
        "    sentence = re.sub('[^a-zA-Z]', ' ', sen)\n",
        "    sentence = re.sub(r\"\\s+[a-zA-Z]\\s+\", ' ', sentence)\n",
        "    sentence = re.sub(r'\\s+', ' ', sentence)\n",
        "    return sentence.strip()"
      ],
      "metadata": {
        "id": "F-_Z5kvCio7L"
      },
      "execution_count": 26,
      "outputs": []
    },
    {
      "cell_type": "code",
      "source": [
        "X = []\n",
        "sentences = list(train_data[\"comment_text\"])\n",
        "for sen in sentences:\n",
        "    X.append(preprocess_text(sen))\n",
        "\n",
        "y = toxic_comments_labels.values"
      ],
      "metadata": {
        "id": "mkDh1UKbkT4o"
      },
      "execution_count": 36,
      "outputs": []
    },
    {
      "cell_type": "code",
      "source": [
        "\n",
        "# Prepare data for training\n",
        "X = new_dataset[\"comment_text\"]\n",
        "y = new_dataset[[\"toxic\", \"severe_toxic\", \"obscene\", \"threat\", \"insult\", \"identity_hate\", \"no_toxicity\"]].values\n",
        "\n",
        "X_train, X_test, y_train, y_test = train_test_split(X, y, test_size=0.2, random_state=42)\n"
      ],
      "metadata": {
        "id": "JkTr1o7Jk0Qg"
      },
      "execution_count": 38,
      "outputs": []
    },
    {
      "cell_type": "code",
      "source": [
        "# Tokenize and build vocabulary\n",
        "tokenizer = get_tokenizer(\"basic_english\")\n",
        "counter = Counter()\n",
        "for sentence in X_train:\n",
        "    counter.update(tokenizer(sentence))\n",
        "vocab = GloVe(name=\"6B\", dim=100, cache='/content')"
      ],
      "metadata": {
        "colab": {
          "base_uri": "https://localhost:8080/"
        },
        "id": "UPIRlDzNk3tp",
        "outputId": "36ad7388-795d-4de2-8cce-f59f53391d11"
      },
      "execution_count": 39,
      "outputs": [
        {
          "output_type": "stream",
          "name": "stderr",
          "text": [
            "/content/glove.6B.zip: 862MB [02:39, 5.42MB/s]                           \n",
            "100%|█████████▉| 399999/400000 [00:32<00:00, 12398.13it/s]\n"
          ]
        }
      ]
    },
    {
      "cell_type": "code",
      "source": [
        "# Convert sentences to indices\n",
        "def encode(sentence, vocab, tokenizer):\n",
        "    return [vocab.stoi[word] for word in tokenizer(sentence) if word in vocab.stoi]\n",
        "\n",
        "X_train = [encode(sentence, vocab, tokenizer) for sentence in X_train]\n",
        "X_test = [encode(sentence, vocab, tokenizer) for sentence in X_test]\n",
        "\n",
        "# Pad sequences\n",
        "X_train = pad_sequence([torch.tensor(x) for x in X_train], batch_first=True, padding_value=0)\n",
        "X_test = pad_sequence([torch.tensor(x) for x in X_test], batch_first=True, padding_value=0)"
      ],
      "metadata": {
        "id": "MFVIRtgPlQ-e"
      },
      "execution_count": 40,
      "outputs": []
    },
    {
      "cell_type": "code",
      "source": [
        "# Define the model architecture in PyTorch\n",
        "class LSTMModel(nn.Module):\n",
        "    def __init__(self, vocab_size, embedding_dim, hidden_dim, output_dim, weights):\n",
        "        super(LSTMModel, self).__init__()\n",
        "        self.embedding = nn.Embedding.from_pretrained(weights)\n",
        "        self.lstm = nn.LSTM(embedding_dim, hidden_dim, batch_first=True)\n",
        "        self.fc = nn.Linear(hidden_dim, output_dim)\n",
        "        self.sigmoid = nn.Sigmoid()\n",
        "\n",
        "    def forward(self, x):\n",
        "        embedded = self.embedding(x)\n",
        "        lstm_out, _ = self.lstm(embedded)\n",
        "        lstm_out = lstm_out[:, -1, :]  # take the last LSTM output\n",
        "        output = self.fc(lstm_out)\n",
        "        output = self.sigmoid(output)\n",
        "        return output"
      ],
      "metadata": {
        "id": "QC-qi2TtlZoe"
      },
      "execution_count": 41,
      "outputs": []
    },
    {
      "cell_type": "code",
      "source": [
        "# Prepare embedding matrix\n",
        "embedding_matrix = vocab.vectors\n",
        "vocab_size, embedding_dim = embedding_matrix.shape"
      ],
      "metadata": {
        "id": "p4Cnqx7flgRv"
      },
      "execution_count": 42,
      "outputs": []
    },
    {
      "cell_type": "code",
      "source": [
        "\n",
        "# Convert data to PyTorch DataLoader\n",
        "train_dataset = TensorDataset(X_train, torch.FloatTensor(y_train))\n",
        "train_loader = DataLoader(train_dataset, batch_size=128, shuffle=True)"
      ],
      "metadata": {
        "id": "Ay8qm0C7mJ8E"
      },
      "execution_count": 43,
      "outputs": []
    },
    {
      "cell_type": "code",
      "source": [
        "# Initialize model, loss function, and optimizer\n",
        "model = LSTMModel(vocab_size, embedding_dim, 128, 7, torch.tensor(embedding_matrix))\n",
        "criterion = nn.BCELoss()\n",
        "optimizer = optim.Adam(model.parameters(), lr=0.001)"
      ],
      "metadata": {
        "colab": {
          "base_uri": "https://localhost:8080/"
        },
        "id": "WGlz8cBSmN1z",
        "outputId": "9dc07368-82d9-4261-8d09-9cd80fa0cfa1"
      },
      "execution_count": 44,
      "outputs": [
        {
          "output_type": "stream",
          "name": "stderr",
          "text": [
            "<ipython-input-44-a3cf90ca742e>:2: UserWarning: To copy construct from a tensor, it is recommended to use sourceTensor.clone().detach() or sourceTensor.clone().detach().requires_grad_(True), rather than torch.tensor(sourceTensor).\n",
            "  model = LSTMModel(vocab_size, embedding_dim, 128, 7, torch.tensor(embedding_matrix))\n"
          ]
        }
      ]
    },
    {
      "cell_type": "code",
      "source": [
        "# Training loop\n",
        "epochs = 5\n",
        "model.train()\n",
        "for epoch in range(epochs):\n",
        "    running_loss = 0.0\n",
        "    for inputs, labels in train_loader:\n",
        "        optimizer.zero_grad()\n",
        "        outputs = model(inputs)\n",
        "        loss = criterion(outputs, labels)\n",
        "        loss.backward()\n",
        "        optimizer.step()\n",
        "        running_loss += loss.item()\n",
        "    print(f'Epoch [{epoch + 1}/{epochs}], Loss: {running_loss / len(train_loader)}')"
      ],
      "metadata": {
        "id": "cQwUJ0D1mZGz"
      },
      "execution_count": null,
      "outputs": []
    },
    {
      "cell_type": "code",
      "source": [
        "# Evaluation\n",
        "model.eval()\n",
        "with torch.no_grad():\n",
        "    y_pred = model(X_test).detach().numpy()\n",
        "\n",
        "# Example of saving predictions to a CSV (similar to the original code)\n",
        "predictions = pd.DataFrame(np.rint(y_pred).astype(int), columns=[\"toxic\", \"severe_toxic\", \"obscene\", \"threat\", \"insult\", \"identity_hate\", \"no_toxicity\"])\n",
        "predictions['comment_id'] = test_data['id']\n",
        "predictions.to_csv('y_pred_predicted.csv', index=False)\n"
      ],
      "metadata": {
        "id": "FEpD0DZ3fSPb"
      },
      "execution_count": null,
      "outputs": []
    },
    {
      "cell_type": "code",
      "source": [],
      "metadata": {
        "id": "W8tz1ZZXfR8q"
      },
      "execution_count": null,
      "outputs": []
    },
    {
      "cell_type": "markdown",
      "source": [
        "### References:\n",
        "\n",
        "1. Deep learning tutorial BMM: [Link](https://cbmm.mit.edu/sites/default/files/documents/BMM%202018%20-%20Deep%20Learning%20Tutorial.pdf)\n",
        "\n"
      ],
      "metadata": {
        "id": "ICllkbgQg9Id"
      }
    },
    {
      "cell_type": "code",
      "source": [],
      "metadata": {
        "id": "TtB5HMugfPm-"
      },
      "execution_count": null,
      "outputs": []
    }
  ]
}